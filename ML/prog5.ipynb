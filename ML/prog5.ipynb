{
 "cells": [
  {
   "cell_type": "code",
   "execution_count": 2,
   "metadata": {},
   "outputs": [
    {
     "name": "stdout",
     "output_type": "stream",
     "text": [
      "          x         y\n",
      "0    6.1101  17.59200\n",
      "1    5.5277   9.13020\n",
      "2    8.5186  13.66200\n",
      "3    7.0032  11.85400\n",
      "4    5.8598   6.82330\n",
      "..      ...       ...\n",
      "92   5.8707   7.20290\n",
      "93   5.3054   1.98690\n",
      "94   8.2934   0.14454\n",
      "95  13.3940   9.05510\n",
      "96   5.4369   0.61705\n",
      "\n",
      "[97 rows x 2 columns]\n",
      "97\n",
      "Mean of X: 8.159799999999999\n",
      "Mean of Y: 5.839135051546393\n",
      "Std dev of X 3.8698835278823314\n",
      "Std dev of Y 5.510262255231544\n",
      "Correlation Coefficient r: 0.8378732325263407\n",
      "Slope: 1.1930336441895937\n",
      "Intercept: -3.895780878311852\n"
     ]
    },
    {
     "data": {
      "image/png": "[encoded data removed]",
      "text/plain": [
       "<Figure size 432x288 with 1 Axes>"
      ]
     },
     "metadata": {
      "needs_background": "light"
     },
     "output_type": "display_data"
    }
   ],
   "source": [
    "import numpy as np\n",
    "import pandas as pd\n",
    "import matplotlib.pyplot as plt\n",
    "import statistics as st\n",
    "import scipy.stats\n",
    "\n",
    "col_names = ['x','y']\n",
    "# load dataset\n",
    "food = pd.read_csv(\"Food-Truck-LineReg.csv\", names=col_names)\n",
    "\n",
    "print(food)\n",
    "X=food['x'].values\n",
    "Y=food['y'].values\n",
    "\n",
    "n=np.size(X)\n",
    "print(n)\n",
    "\n",
    "m_x = np.mean(X)\n",
    "m_y = np.mean(Y)\n",
    "print('Mean of X:',m_x)\n",
    "print('Mean of Y:', m_y)\n",
    "\n",
    "Sx=st.stdev(X)\n",
    "Sy=st.stdev(Y)\n",
    "print('Std dev of X',Sx)\n",
    "print('Std dev of Y',Sy)\n",
    "\n",
    "r=scipy.stats.pearsonr(X,Y)[0]\n",
    "print(\"Correlation Coefficient r:\",r)\n",
    "\n",
    "m = r*(Sy/Sx)\n",
    "print('Slope:',m)\n",
    "\n",
    "#intercept\n",
    "c = m_y - (m*m_x)\n",
    "print('Intercept:',c)\n",
    "\n",
    "y_pred = (m*X)+c\n",
    "\n",
    "plt.scatter(X, Y, color = \"m\", marker = \"o\", s = 30)\n",
    " \n",
    "# plotting the regression line\n",
    "plt.plot(X, y_pred, color = \"g\")\n",
    " \n",
    "# putting labels\n",
    "plt.xlabel('x')\n",
    "plt.ylabel('y')\n",
    " \n",
    "# function to show plot\n",
    "plt.show()"
   ]
  }
 ],
 "metadata": {
  "kernelspec": {
   "display_name": "Python 3",
   "language": "python",
   "name": "python3"
  },
  "language_info": {
   "codemirror_mode": {
    "name": "ipython",
    "version": 3
   },
   "file_extension": ".py",
   "mimetype": "text/x-python",
   "name": "python",
   "nbconvert_exporter": "python",
   "pygments_lexer": "ipython3",
   "version": "3.8.5"
  }
 },
 "nbformat": 4,
 "nbformat_minor": 4
}
