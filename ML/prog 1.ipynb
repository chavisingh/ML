{
 "cells": [
  {
   "cell_type": "code",
   "execution_count": 3,
   "metadata": {},
   "outputs": [
    {
     "name": "stdout",
     "output_type": "stream",
     "text": [
      "mean: 121.24000000000001\n",
      "mean: 121.24\n"
     ]
    }
   ],
   "source": [
    "import pandas as pd\n",
    "import numpy as np\n",
    "import statistics as st\n",
    "\n",
    "def  mean(arr):\n",
    "    sum=0\n",
    "    n=len(arr)\n",
    "    for val in arr:\n",
    "        sum=sum+val\n",
    "    mean=sum/n\n",
    "    print(\"mean:\",mean)\n",
    "    print(\"mean:\",st.mean(arr))\n",
    "    \n",
    "mean([115.3,195.5,120.5,110.2,90.4,105.6,110.9,116.3,122.3,125.4])"
   ]
  },
  {
   "cell_type": "code",
   "execution_count": 4,
   "metadata": {},
   "outputs": [
    {
     "name": "stdout",
     "output_type": "stream",
     "text": [
      "median: 115.8\n",
      "median: 115.8\n"
     ]
    }
   ],
   "source": [
    "def median(arr):\n",
    "    n=len(arr)\n",
    "    arr.sort()\n",
    "    if(n%2!=0):\n",
    "        index=n//2\n",
    "        median=arr[index]\n",
    "    else:\n",
    "        index=n//2\n",
    "        median=float((arr[index-1]+arr[index])/2)   \n",
    "    print(\"median:\",median)\n",
    "    print(\"median:\",st.median(arr))\n",
    "    \n",
    "median([115.3,195.5,120.5,110.2,90.4,105.6,110.9,116.3,122.3,125.4])\n",
    "            "
   ]
  },
  {
   "cell_type": "code",
   "execution_count": 14,
   "metadata": {},
   "outputs": [
    {
     "name": "stdout",
     "output_type": "stream",
     "text": [
      "mode: 115.3\n"
     ]
    },
    {
     "data": {
      "text/plain": [
       "[115.3, 195.5, 120.5, 110.2, 90.4, 105.6, 110.9, 116.3, 122.3, 125.4]"
      ]
     },
     "execution_count": 14,
     "metadata": {},
     "output_type": "execute_result"
    }
   ],
   "source": [
    "from collections import Counter\n",
    "def mode(arr):\n",
    "    c = Counter(arr)\n",
    "    print(\"mode:\",st.mode(arr))\n",
    "    return [k for k,v in c.items() if v==c.most_common(1)[0][1]]\n",
    "    \n",
    "mode([115.3,195.5,120.5,110.2,90.4,105.6,110.9,116.3,122.3,125.4])  "
   ]
  },
  {
   "cell_type": "code",
   "execution_count": 16,
   "metadata": {},
   "outputs": [
    {
     "name": "stdout",
     "output_type": "stream",
     "text": [
      "[-0.23691722169362506, -1.0, -0.2863939105613701, -0.18839200761179828, -0.0, -0.14462416745956222, -0.1950523311132255, -0.24643196955280677, -0.3035204567078972, -0.3330161750713606]\n",
      "-0.2934348239771646\n"
     ]
    }
   ],
   "source": [
    "def normalization(arr):\n",
    "    maximum = max(arr)\n",
    "    minimum = min(arr)\n",
    "    new_arr=[]\n",
    "    for val in arr:\n",
    "        new_item=(val-minimum)/(minimum-maximum)\n",
    "        new_arr.append(new_item)\n",
    "    print(new_arr)\n",
    "    print(st.mean(new_arr))\n",
    "\n",
    "normalization([115.3,195.5,120.5,110.2,90.4,105.6,110.9,116.3,122.3,125.4])  "
   ]
  },
  {
   "cell_type": "code",
   "execution_count": 19,
   "metadata": {},
   "outputs": [
    {
     "name": "stdout",
     "output_type": "stream",
     "text": [
      "[-0.2127206041526703, 2.6593656674035864, -0.026500546645281987, -0.3953595067079932, -1.1044281872168944, -0.5600926345029907, -0.370291422043537, -0.17690905463201873, 0.037960242491890756, 0.14897604600591097]\n",
      "1.7694179454963432e-16\n"
     ]
    }
   ],
   "source": [
    "def standardization(arr):\n",
    "    mean = st.mean(arr)\n",
    "    std = st.stdev(arr)\n",
    "    new_list=[]\n",
    "    for value in arr:\n",
    "        new_value=(value-mean)/std\n",
    "        new_list.append(new_value)\n",
    "    print(new_list)\n",
    "    print(st.mean(new_list))\n",
    "    \n",
    "standardization([115.3,195.5,120.5,110.2,90.4,105.6,110.9,116.3,122.3,125.4])  "
   ]
  },
  {
   "cell_type": "code",
   "execution_count": null,
   "metadata": {},
   "outputs": [],
   "source": []
  }
 ],
 "metadata": {
  "kernelspec": {
   "display_name": "Python 3",
   "language": "python",
   "name": "python3"
  },
  "language_info": {
   "codemirror_mode": {
    "name": "ipython",
    "version": 3
   },
   "file_extension": ".py",
   "mimetype": "text/x-python",
   "name": "python",
   "nbconvert_exporter": "python",
   "pygments_lexer": "ipython3",
   "version": "3.8.5"
  }
 },
 "nbformat": 4,
 "nbformat_minor": 4
}
