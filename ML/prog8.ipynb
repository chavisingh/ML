{
 "cells": [
  {
   "cell_type": "code",
   "execution_count": 17,
   "metadata": {},
   "outputs": [
    {
     "name": "stdout",
     "output_type": "stream",
     "text": [
      "      Id       RI     Na    Mg    Al    Si      K    Ca    Ba   Fe  Type\n",
      "0      1  1.52101  13.64  4.49  1.10  71.78  0.06  8.75  0.00  0.0     1\n",
      "1      2  1.51761  13.89  3.60  1.36  72.73  0.48  7.83  0.00  0.0     1\n",
      "2      3  1.51618  13.53  3.55  1.54  72.99  0.39  7.78  0.00  0.0     1\n",
      "3      4  1.51766  13.21  3.69  1.29  72.61  0.57  8.22  0.00  0.0     1\n",
      "4      5  1.51742  13.27  3.62  1.24  73.08  0.55  8.07  0.00  0.0     1\n",
      "..   ...      ...    ...   ...   ...    ...   ...   ...   ...  ...   ...\n",
      "209  210  1.51623  14.14  0.00  2.88  72.61  0.08  9.18  1.06  0.0     7\n",
      "210  211  1.51685  14.92  0.00  1.99  73.06  0.00  8.40  1.59  0.0     7\n",
      "211  212  1.52065  14.36  0.00  2.02  73.42  0.00  8.44  1.64  0.0     7\n",
      "212  213  1.51651  14.38  0.00  1.94  73.61  0.00  8.48  1.57  0.0     7\n",
      "213  214  1.51711  14.23  0.00  2.08  73.36  0.00  8.62  1.67  0.0     7\n",
      "\n",
      "[214 rows x 11 columns]\n"
     ]
    }
   ],
   "source": [
    "from sklearn.svm import SVC\n",
    "import numpy as np\n",
    "import pandas as pd\n",
    "from matplotlib import pyplot as plt\n",
    "df=pd.read_csv(\"glass.csv\")\n",
    "print(df)"
   ]
  },
  {
   "cell_type": "code",
   "execution_count": 18,
   "metadata": {},
   "outputs": [
    {
     "name": "stdout",
     "output_type": "stream",
     "text": [
      "[[-1.72397593  0.87286765  0.28495326 ... -0.35287683 -0.5864509\n",
      "  -0.84827468]\n",
      " [-1.70778837 -0.24933347  0.59181718 ... -0.35287683 -0.5864509\n",
      "  -0.84827468]\n",
      " [-1.6916008  -0.72131806  0.14993314 ... -0.35287683 -0.5864509\n",
      "  -0.84827468]\n",
      " ...\n",
      " [ 1.6916008   0.75404635  1.16872135 ...  2.95320036 -0.5864509\n",
      "   2.01047778]\n",
      " [ 1.70778837 -0.61239854  1.19327046 ...  2.81208731 -0.5864509\n",
      "   2.01047778]\n",
      " [ 1.72397593 -0.41436305  1.00915211 ...  3.01367739 -0.5864509\n",
      "   2.01047778]]\n"
     ]
    }
   ],
   "source": [
    "from sklearn.preprocessing import StandardScaler\n",
    "scaler = StandardScaler()\n",
    "print(scaler.fit_transform(df))"
   ]
  },
  {
   "cell_type": "code",
   "execution_count": 19,
   "metadata": {},
   "outputs": [],
   "source": [
    "x=df.drop('Type',axis=1)\n",
    "y=df.Type"
   ]
  },
  {
   "cell_type": "code",
   "execution_count": 20,
   "metadata": {},
   "outputs": [],
   "source": [
    "from sklearn.model_selection import train_test_split\n",
    "x_train,x_test,y_train,y_test=train_test_split(x,y,test_size=0.3)"
   ]
  },
  {
   "cell_type": "code",
   "execution_count": 21,
   "metadata": {},
   "outputs": [
    {
     "data": {
      "text/plain": [
       "SVC(kernel='linear')"
      ]
     },
     "execution_count": 21,
     "metadata": {},
     "output_type": "execute_result"
    }
   ],
   "source": [
    "from sklearn import svm\n",
    "ml=svm.SVC(kernel='linear')\n",
    "ml.fit(x_train,y_train)"
   ]
  },
  {
   "cell_type": "code",
   "execution_count": 22,
   "metadata": {},
   "outputs": [
    {
     "name": "stdout",
     "output_type": "stream",
     "text": [
      "[[7.00000e+01 1.52300e+00 1.33100e+01 3.58000e+00 8.20000e-01 7.19900e+01\n",
      "  1.20000e-01 1.01700e+01 0.00000e+00 3.00000e-02]\n",
      " [7.10000e+01 1.51574e+00 1.48600e+01 3.67000e+00 1.74000e+00 7.18700e+01\n",
      "  1.60000e-01 7.36000e+00 0.00000e+00 1.20000e-01]\n",
      " [7.30000e+01 1.51593e+00 1.30900e+01 3.59000e+00 1.52000e+00 7.31000e+01\n",
      "  6.70000e-01 7.83000e+00 0.00000e+00 0.00000e+00]\n",
      " [1.46000e+02 1.51839e+00 1.28500e+01 3.67000e+00 1.24000e+00 7.25700e+01\n",
      "  6.20000e-01 8.68000e+00 0.00000e+00 3.50000e-01]\n",
      " [1.63000e+02 1.52211e+00 1.41900e+01 3.78000e+00 9.10000e-01 7.13600e+01\n",
      "  2.30000e-01 9.14000e+00 0.00000e+00 3.70000e-01]\n",
      " [1.47000e+02 1.51769e+00 1.36500e+01 3.66000e+00 1.11000e+00 7.27700e+01\n",
      "  1.10000e-01 8.60000e+00 0.00000e+00 0.00000e+00]\n",
      " [1.73000e+02 1.51321e+00 1.30000e+01 0.00000e+00 3.02000e+00 7.07000e+01\n",
      "  6.21000e+00 6.93000e+00 0.00000e+00 0.00000e+00]\n",
      " [1.65000e+02 1.51915e+00 1.27300e+01 1.85000e+00 1.86000e+00 7.26900e+01\n",
      "  6.00000e-01 1.00900e+01 0.00000e+00 0.00000e+00]\n",
      " [1.76000e+02 1.52119e+00 1.29700e+01 3.30000e-01 1.51000e+00 7.33900e+01\n",
      "  1.30000e-01 1.12700e+01 0.00000e+00 2.80000e-01]\n",
      " [1.64000e+02 1.51514e+00 1.40100e+01 2.68000e+00 3.50000e+00 6.98900e+01\n",
      "  1.68000e+00 5.87000e+00 2.20000e+00 0.00000e+00]\n",
      " [1.81000e+02 1.51299e+00 1.44000e+01 1.74000e+00 1.54000e+00 7.45500e+01\n",
      "  0.00000e+00 7.59000e+00 0.00000e+00 0.00000e+00]\n",
      " [1.85000e+02 1.51115e+00 1.73800e+01 0.00000e+00 3.40000e-01 7.54100e+01\n",
      "  0.00000e+00 6.65000e+00 0.00000e+00 0.00000e+00]\n",
      " [1.82000e+02 1.51888e+00 1.49900e+01 7.80000e-01 1.74000e+00 7.25000e+01\n",
      "  0.00000e+00 9.95000e+00 0.00000e+00 0.00000e+00]\n",
      " [1.77000e+02 1.51905e+00 1.40000e+01 2.39000e+00 1.56000e+00 7.23700e+01\n",
      "  0.00000e+00 9.57000e+00 0.00000e+00 0.00000e+00]\n",
      " [1.92000e+02 1.51602e+00 1.48500e+01 0.00000e+00 2.38000e+00 7.32800e+01\n",
      "  0.00000e+00 8.76000e+00 6.40000e-01 9.00000e-02]\n",
      " [1.86000e+02 1.51131e+00 1.36900e+01 3.20000e+00 1.81000e+00 7.28100e+01\n",
      "  1.76000e+00 5.43000e+00 1.19000e+00 0.00000e+00]]\n"
     ]
    }
   ],
   "source": [
    "print(ml.support_vectors_)"
   ]
  },
  {
   "cell_type": "code",
   "execution_count": 23,
   "metadata": {},
   "outputs": [
    {
     "name": "stdout",
     "output_type": "stream",
     "text": [
      "[1 3 2 4 4 2]\n"
     ]
    }
   ],
   "source": [
    "print(ml.n_support_)"
   ]
  },
  {
   "cell_type": "code",
   "execution_count": 24,
   "metadata": {},
   "outputs": [],
   "source": [
    "y_pred=ml.predict(x_test)"
   ]
  },
  {
   "cell_type": "code",
   "execution_count": 25,
   "metadata": {},
   "outputs": [
    {
     "name": "stdout",
     "output_type": "stream",
     "text": [
      "1.0\n",
      "[[24  0  0  0  0  0]\n",
      " [ 0 27  0  0  0  0]\n",
      " [ 0  0  2  0  0  0]\n",
      " [ 0  0  0  3  0  0]\n",
      " [ 0  0  0  0  3  0]\n",
      " [ 0  0  0  0  0  6]]\n",
      "              precision    recall  f1-score   support\n",
      "\n",
      "           1       1.00      1.00      1.00        24\n",
      "           2       1.00      1.00      1.00        27\n",
      "           3       1.00      1.00      1.00         2\n",
      "           5       1.00      1.00      1.00         3\n",
      "           6       1.00      1.00      1.00         3\n",
      "           7       1.00      1.00      1.00         6\n",
      "\n",
      "    accuracy                           1.00        65\n",
      "   macro avg       1.00      1.00      1.00        65\n",
      "weighted avg       1.00      1.00      1.00        65\n",
      "\n"
     ]
    }
   ],
   "source": [
    "from sklearn.metrics import accuracy_score,confusion_matrix,classification_report\n",
    "print(accuracy_score(y_test,y_pred))\n",
    "print(confusion_matrix(y_test,y_pred))\n",
    "print(classification_report(y_test,y_pred))"
   ]
  },
  {
   "cell_type": "code",
   "execution_count": 26,
   "metadata": {},
   "outputs": [],
   "source": [
    "model1=SVC(kernel='sigmoid')\n",
    "model2=SVC(kernel='poly')\n",
    "model3=SVC(kernel='rbf')"
   ]
  },
  {
   "cell_type": "code",
   "execution_count": 27,
   "metadata": {},
   "outputs": [],
   "source": [
    "model1.fit(x_train,y_train)\n",
    "model2.fit(x_train,y_train)\n",
    "model3.fit(x_train,y_train)\n",
    "\n",
    "ypred1=model1.predict(x_test)\n",
    "ypred2=model2.predict(x_test)\n",
    "ypred3=model3.predict(x_test)"
   ]
  },
  {
   "cell_type": "code",
   "execution_count": 28,
   "metadata": {},
   "outputs": [
    {
     "name": "stdout",
     "output_type": "stream",
     "text": [
      "0.6923076923076923\n",
      "0.9846153846153847\n",
      "0.8461538461538461\n"
     ]
    }
   ],
   "source": [
    "print(accuracy_score(y_test,ypred1))\n",
    "print(accuracy_score(y_test,ypred2))\n",
    "print(accuracy_score(y_test,ypred3))"
   ]
  },
  {
   "cell_type": "code",
   "execution_count": 29,
   "metadata": {},
   "outputs": [
    {
     "ename": "NameError",
     "evalue": "name 'svm_model' is not defined",
     "output_type": "error",
     "traceback": [
      "\u001b[1;31m---------------------------------------------------------------------------\u001b[0m",
      "\u001b[1;31mNameError\u001b[0m                                 Traceback (most recent call last)",
      "\u001b[1;32m<ipython-input-29-6851f40fec77>\u001b[0m in \u001b[0;36m<module>\u001b[1;34m\u001b[0m\n\u001b[1;32m----> 1\u001b[1;33m \u001b[0mprint\u001b[0m\u001b[1;33m(\u001b[0m\u001b[1;34m'Best score for training data:'\u001b[0m\u001b[1;33m,\u001b[0m\u001b[0msvm_model\u001b[0m\u001b[1;33m.\u001b[0m\u001b[0mbest_score_\u001b[0m\u001b[1;33m,\u001b[0m\u001b[1;34m\"\\n\"\u001b[0m\u001b[1;33m)\u001b[0m\u001b[1;33m\u001b[0m\u001b[1;33m\u001b[0m\u001b[0m\n\u001b[0m\u001b[0;32m      2\u001b[0m \u001b[1;33m\u001b[0m\u001b[0m\n\u001b[0;32m      3\u001b[0m \u001b[1;31m#View the best parameters for the model found using grid search\u001b[0m\u001b[1;33m\u001b[0m\u001b[1;33m\u001b[0m\u001b[1;33m\u001b[0m\u001b[0m\n\u001b[0;32m      4\u001b[0m \u001b[0mprint\u001b[0m\u001b[1;33m(\u001b[0m\u001b[1;34m'Best C:'\u001b[0m\u001b[1;33m,\u001b[0m\u001b[0msvm_model\u001b[0m\u001b[1;33m.\u001b[0m\u001b[0mbest_estimator_\u001b[0m\u001b[1;33m.\u001b[0m\u001b[0mC\u001b[0m\u001b[1;33m,\u001b[0m\u001b[1;34m\"\\n\"\u001b[0m\u001b[1;33m)\u001b[0m\u001b[1;33m\u001b[0m\u001b[1;33m\u001b[0m\u001b[0m\n\u001b[0;32m      5\u001b[0m \u001b[0mprint\u001b[0m\u001b[1;33m(\u001b[0m\u001b[1;34m'Best Kernel:'\u001b[0m\u001b[1;33m,\u001b[0m\u001b[0msvm_model\u001b[0m\u001b[1;33m.\u001b[0m\u001b[0mbest_estimator_\u001b[0m\u001b[1;33m.\u001b[0m\u001b[0mkernel\u001b[0m\u001b[1;33m,\u001b[0m\u001b[1;34m\"\\n\"\u001b[0m\u001b[1;33m)\u001b[0m\u001b[1;33m\u001b[0m\u001b[1;33m\u001b[0m\u001b[0m\n",
      "\u001b[1;31mNameError\u001b[0m: name 'svm_model' is not defined"
     ]
    }
   ],
   "source": [
    "print('Best score for training data:',svm_model.best_score_,\"\\n\")\n",
    "\n",
    "#View the best parameters for the model found using grid search\n",
    "print('Best C:',svm_model.best_estimator_.C,\"\\n\")\n",
    "print('Best Kernel:',svm_model.best_estimator_.kernel,\"\\n\")\n",
    "print('Best Gamma:',svm_model.best_estimator_.gamma,\"\\n\")\n",
    "\n",
    "final_model=svm_model.best_estimator_\n",
    "Y_pred=final_model.predict(x_test)"
   ]
  },
  {
   "cell_type": "code",
   "execution_count": null,
   "metadata": {},
   "outputs": [],
   "source": [
    "print(accuracy_score(y_test,Y_pred))"
   ]
  }
 ],
 "metadata": {
  "kernelspec": {
   "display_name": "Python 3",
   "language": "python",
   "name": "python3"
  },
  "language_info": {
   "codemirror_mode": {
    "name": "ipython",
    "version": 3
   },
   "file_extension": ".py",
   "mimetype": "text/x-python",
   "name": "python",
   "nbconvert_exporter": "python",
   "pygments_lexer": "ipython3",
   "version": "3.8.5"
  }
 },
 "nbformat": 4,
 "nbformat_minor": 4
}
